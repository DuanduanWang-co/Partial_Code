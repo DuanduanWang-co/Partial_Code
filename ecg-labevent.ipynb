{
 "cells": [
  {
   "cell_type": "code",
   "execution_count": 2,
   "id": "acc43b45",
   "metadata": {},
   "outputs": [],
   "source": [
    "import pandas as pd\n",
    "from pathlib import Path\n",
    "import wfdb\n",
    "\n",
    "# Read lab-event\n",
    "lab = pd.read_excel(\n",
    "    'labevents-1000.xlsx',\n",
    "    usecols=['subject_id', 'charttime', 'itemid', 'value'],\n",
    "    parse_dates=['charttime']\n",
    ")\n",
    "# Keep Ca²⁺(50893) and K⁺(50971)\n",
    "lab = lab[lab['itemid'].isin([50893, 50971])].copy()\n",
    "lab.sort_values(['subject_id', 'charttime'], inplace=True)\n"
   ]
  },
  {
   "cell_type": "code",
   "execution_count": 3,
   "id": "24b7d252",
   "metadata": {},
   "outputs": [
    {
     "name": "stdout",
     "output_type": "stream",
     "text": [
      "Distribution of test types over time points(1 both, 2 only one):\n",
      "nunique\n",
      "2    19257\n",
      "1     8639\n",
      "Name: count, dtype: int64\n"
     ]
    }
   ],
   "source": [
    "# Check whether both Ca and K are present at each time point\n",
    "# Count unique itemid and total count at each (subject_id, charttime)\n",
    "lab_grouped = lab.groupby(['subject_id', 'charttime'])['itemid'].agg(['nunique', 'count'])\n",
    "print(\"Distribution of test types over time points(1 both, 2 only one):\")\n",
    "print(lab_grouped['nunique'].value_counts())\n"
   ]
  },
  {
   "cell_type": "code",
   "execution_count": null,
   "id": "3fa0638d",
   "metadata": {},
   "outputs": [
    {
     "name": "stdout",
     "output_type": "stream",
     "text": [
      "         subject_id  itemid           charttime value\n",
      "18         10000032   50893 2180-03-23 11:51:00   8.4\n",
      "39         10000032   50971 2180-03-23 11:51:00   3.7\n",
      "107        10000032   50971 2180-05-06 22:25:00   3.4\n",
      "147        10000032   50893 2180-05-07 05:05:00   7.8\n",
      "153        10000032   50971 2180-05-07 05:05:00   4.5\n",
      "...             ...     ...                 ...   ...\n",
      "1048469    10070928   50971 2187-01-12 06:30:00   4.3\n",
      "1048482    10070928   50971 2187-01-31 11:40:00   4.5\n",
      "1048529    10070928   50893 2187-02-01 04:07:00   7.7\n",
      "1048535    10070928   50971 2187-02-01 04:07:00   3.5\n",
      "1048570    10070928   50893 2187-02-02 06:45:00   8.2\n",
      "\n",
      "[47183 rows x 4 columns]\n"
     ]
    }
   ],
   "source": [
    "print(lab)"
   ]
  },
  {
   "cell_type": "code",
   "execution_count": 7,
   "id": "b6d501e9",
   "metadata": {},
   "outputs": [],
   "source": [
    "# Extract ECG features\n",
    "records = []\n",
    "root = Path('C:\\\\Users\\\\DELL\\\\Desktop\\\\DataECG')"
   ]
  },
  {
   "cell_type": "code",
   "execution_count": 9,
   "id": "2b6fd6d2",
   "metadata": {},
   "outputs": [],
   "source": [
    "for hea_path in root.rglob('*.hea'):\n",
    "    if not hea_path.exists():\n",
    "        continue\n",
    "\n",
    "    parts = hea_path.parts\n",
    "    try:\n",
    "        subject_id = int(parts[-3][1:])  # 'p10000032' - 10000032\n",
    "    except ValueError:\n",
    "        continue\n",
    "    study_id = parts[-2][1:]           # 's40689238' - '40689238'\n",
    "\n",
    "    # Only keep subjects present in lab-event\n",
    "    if subject_id not in set(lab['subject_id']):\n",
    "        continue\n",
    "\n",
    "    record_base = str(hea_path.with_suffix(''))  # 去掉 “.hea”\n",
    "\n",
    "    try:\n",
    "        hdr = wfdb.rdheader(record_base)\n",
    "        ecg_time = pd.to_datetime(f\"{hdr.base_date} {hdr.base_time}\")\n",
    "    except Exception as e:\n",
    "        print(f\"Fail to read ECG header, skip {hea_path.name}:{e}\")\n",
    "        continue\n",
    "\n",
    "    records.append({\n",
    "        'subject_id': subject_id,\n",
    "        'study_id'  : study_id,\n",
    "        'ecg_time'  : ecg_time,\n",
    "        'hea_path'  : str(hea_path)\n",
    "    })\n",
    "\n",
    "ecg_df = pd.DataFrame(records)\n"
   ]
  },
  {
   "cell_type": "code",
   "execution_count": 10,
   "id": "ae391f5f",
   "metadata": {},
   "outputs": [
    {
     "name": "stdout",
     "output_type": "stream",
     "text": [
      "      subject_id  study_id            ecg_time  \\\n",
      "0       10000032  40689238 2180-07-23 08:44:00   \n",
      "1       10000032  44458630 2180-07-23 09:54:00   \n",
      "2       10000032  49036311 2180-08-06 09:07:00   \n",
      "3       10000117  45090959 2181-03-04 17:14:00   \n",
      "4       10000117  48446569 2183-09-18 13:52:00   \n",
      "...          ...       ...                 ...   \n",
      "7440    10070928  43278504 2187-12-05 13:34:00   \n",
      "7441    10070928  44396383 2187-12-05 13:38:00   \n",
      "7442    10070928  44703023 2187-01-31 11:56:00   \n",
      "7443    10070928  45989652 2187-06-07 11:17:00   \n",
      "7444    10070928  47084135 2187-08-24 19:16:00   \n",
      "\n",
      "                                               hea_path  \n",
      "0     C:\\Users\\DELL\\Desktop\\DataECG\\p1000\\p10000032\\...  \n",
      "1     C:\\Users\\DELL\\Desktop\\DataECG\\p1000\\p10000032\\...  \n",
      "2     C:\\Users\\DELL\\Desktop\\DataECG\\p1000\\p10000032\\...  \n",
      "3     C:\\Users\\DELL\\Desktop\\DataECG\\p1000\\p10000117\\...  \n",
      "4     C:\\Users\\DELL\\Desktop\\DataECG\\p1000\\p10000117\\...  \n",
      "...                                                 ...  \n",
      "7440  C:\\Users\\DELL\\Desktop\\DataECG\\p1007\\p10070928\\...  \n",
      "7441  C:\\Users\\DELL\\Desktop\\DataECG\\p1007\\p10070928\\...  \n",
      "7442  C:\\Users\\DELL\\Desktop\\DataECG\\p1007\\p10070928\\...  \n",
      "7443  C:\\Users\\DELL\\Desktop\\DataECG\\p1007\\p10070928\\...  \n",
      "7444  C:\\Users\\DELL\\Desktop\\DataECG\\p1007\\p10070928\\...  \n",
      "\n",
      "[7445 rows x 4 columns]\n"
     ]
    }
   ],
   "source": [
    "print(ecg_df)"
   ]
  },
  {
   "cell_type": "code",
   "execution_count": 11,
   "id": "c958e297",
   "metadata": {},
   "outputs": [],
   "source": [
    "# subject_id intersection\n",
    "common_ids = set(ecg_df['subject_id']) & set(lab['subject_id'])\n",
    "ecg_df = ecg_df[ecg_df['subject_id'].isin(common_ids)].copy()\n",
    "lab    = lab[   lab['subject_id'].isin(common_ids)].copy()\n",
    "\n",
    "ecg_df.sort_values(['subject_id', 'ecg_time'], inplace=True)\n",
    "lab.sort_values(['subject_id', 'charttime'], inplace=True)\n"
   ]
  },
  {
   "cell_type": "code",
   "execution_count": 12,
   "id": "2633bbbb",
   "metadata": {},
   "outputs": [
    {
     "name": "stdout",
     "output_type": "stream",
     "text": [
      "<bound method NDFrame.head of          subject_id  itemid           charttime value\n",
      "18         10000032   50893 2180-03-23 11:51:00   8.4\n",
      "39         10000032   50971 2180-03-23 11:51:00   3.7\n",
      "107        10000032   50971 2180-05-06 22:25:00   3.4\n",
      "147        10000032   50893 2180-05-07 05:05:00   7.8\n",
      "153        10000032   50971 2180-05-07 05:05:00   4.5\n",
      "...             ...     ...                 ...   ...\n",
      "1048469    10070928   50971 2187-01-12 06:30:00   4.3\n",
      "1048482    10070928   50971 2187-01-31 11:40:00   4.5\n",
      "1048529    10070928   50893 2187-02-01 04:07:00   7.7\n",
      "1048535    10070928   50971 2187-02-01 04:07:00   3.5\n",
      "1048570    10070928   50893 2187-02-02 06:45:00   8.2\n",
      "\n",
      "[34660 rows x 4 columns]>\n"
     ]
    }
   ],
   "source": [
    "print(lab.head)"
   ]
  },
  {
   "cell_type": "code",
   "execution_count": null,
   "id": "755c4066",
   "metadata": {},
   "outputs": [
    {
     "name": "stdout",
     "output_type": "stream",
     "text": [
      "\n",
      "Statistics Summary:\n",
      "- Total Lab records: 34660\n",
      "- Matched Lab records: 9604\n",
      "- Matched Rate: 27.7%\n",
      "- Max time difference: 1 days 00:00:00\n"
     ]
    }
   ],
   "source": [
    "# Turn into datetime\n",
    "lab['charttime'] = pd.to_datetime(lab['charttime'])\n",
    "ecg_df['ecg_time'] = pd.to_datetime(ecg_df['ecg_time'])\n",
    "\n",
    "# Sort(necessary)\n",
    "lab_sorted = lab.sort_values('charttime')\n",
    "ecg_sorted = ecg_df.sort_values('ecg_time')\n",
    "\n",
    "# Match the nearest ecg_time\n",
    "merged = pd.merge_asof(\n",
    "    left=lab_sorted,                                \n",
    "    right=ecg_sorted,                               \n",
    "    left_on='charttime',                           \n",
    "    right_on='ecg_time',                           \n",
    "    by='subject_id',                               \n",
    "    direction='nearest',                           \n",
    "    suffixes=('_lab', '_ecg')                      \n",
    ")\n",
    "\n",
    "merged['time_diff'] = abs(merged['charttime'] - merged['ecg_time'])\n",
    "\n",
    "# Max time difference, set 24 here.\n",
    "# Note: Ideally within 6 hours for greater accuracy, since blood test results in ICU patients may fluctuate within a single day, \n",
    "# with the most frequent testing occurring every 6 hours.\n",
    "max_time_diff = pd.Timedelta(hours=24)\n",
    "merged = merged[merged['time_diff'] <= max_time_diff].copy()\n",
    "\n",
    "print(\"\\nStatistics Summary:\")\n",
    "print(f\"- Total Lab records: {len(lab)}\")\n",
    "print(f\"- Matched Lab records: {len(merged)}\")\n",
    "print(f\"- Matched Rate: {len(merged)/len(lab):.1%}\")\n",
    "print(f\"- Max time difference: {merged['time_diff'].max()}\")"
   ]
  },
  {
   "cell_type": "code",
   "execution_count": 14,
   "id": "059289db",
   "metadata": {},
   "outputs": [
    {
     "name": "stdout",
     "output_type": "stream",
     "text": [
      "Matching completed, results have been saved to: ('C:\\\\Users\\\\DELL\\\\Desktop\\\\DataECG\\\\matched_lab_ecg_unique_demo.csv',       subject_id            ecg_time calcium       time_diff  study_id  \\\n",
      "1       10000032 2180-07-23 09:54:00     9.3 0 days 11:51:00  44458630   \n",
      "2       10000032 2180-08-06 09:07:00     8.6 0 days 02:31:00  49036311   \n",
      "3       10000117 2183-09-18 13:52:00     9.9 0 days 01:26:00  48446569   \n",
      "8       10000764 2132-10-16 09:54:00     8.1 0 days 03:51:00  40539087   \n",
      "10      10000826 2146-12-12 08:42:00     8.2 0 days 03:32:00  40695233   \n",
      "...          ...                 ...     ...             ...       ...   \n",
      "3861    10070626 2157-06-03 02:01:00       8 0 days 01:50:00  41184490   \n",
      "3862    10070626 2157-06-03 14:58:00     8.3 0 days 14:54:00  44445866   \n",
      "3864    10070701 2156-10-02 16:10:00       9 0 days 00:00:00  48420484   \n",
      "3865    10070701 2156-10-03 14:51:00     8.3 0 days 03:31:00  49084196   \n",
      "3867    10070735 2128-02-26 14:21:00     8.8 0 days 00:54:00  47870408   \n",
      "\n",
      "                                               hea_path potassium  \n",
      "1     C:\\Users\\DELL\\Desktop\\DataECG\\p1000\\p10000032\\...       4.7  \n",
      "2     C:\\Users\\DELL\\Desktop\\DataECG\\p1000\\p10000032\\...       ___  \n",
      "3     C:\\Users\\DELL\\Desktop\\DataECG\\p1000\\p10000117\\...       ___  \n",
      "8     C:\\Users\\DELL\\Desktop\\DataECG\\p1000\\p10000764\\...       3.8  \n",
      "10    C:\\Users\\DELL\\Desktop\\DataECG\\p1000\\p10000826\\...       4.3  \n",
      "...                                                 ...       ...  \n",
      "3861  C:\\Users\\DELL\\Desktop\\DataECG\\p1007\\p10070626\\...       4.3  \n",
      "3862  C:\\Users\\DELL\\Desktop\\DataECG\\p1007\\p10070626\\...       3.9  \n",
      "3864  C:\\Users\\DELL\\Desktop\\DataECG\\p1007\\p10070701\\...       4.8  \n",
      "3865  C:\\Users\\DELL\\Desktop\\DataECG\\p1007\\p10070701\\...       4.6  \n",
      "3867  C:\\Users\\DELL\\Desktop\\DataECG\\p1007\\p10070735\\...       5.5  \n",
      "\n",
      "[1927 rows x 7 columns])\n",
      "\n",
      "Final statistics:\n",
      "- Unique ECG records: 3872\n",
      "- Records with calcium: 2297\n",
      "- Records with potassium: 3501\n",
      "- Records with both calcium and potassium: 1927\n"
     ]
    }
   ],
   "source": [
    "# After first round cleaning, each ECG matched multiple blood tests.\n",
    "# Requires a second round of cleaning.\n",
    "# Seperate Ca and K records\n",
    "ca_df = merged[merged['itemid'] == 50893].copy()\n",
    "k_df = merged[merged['itemid'] == 50971].copy()\n",
    "\n",
    "# Sort by time difference and deduplicate(keep the closest record for each ecg_time)\n",
    "ca_unique = ca_df.sort_values('time_diff').groupby(['subject_id', 'ecg_time']).head(1)\n",
    "k_unique = k_df.sort_values('time_diff').groupby(['subject_id', 'ecg_time']).head(1)\n",
    "\n",
    "# Combine K and Ca (allow independence)\n",
    "final_df = pd.merge(\n",
    "    ca_unique[['subject_id', 'ecg_time', 'value', 'time_diff', 'study_id', 'hea_path']],\n",
    "    k_unique[['subject_id', 'ecg_time', 'value', 'time_diff', 'study_id', 'hea_path']],\n",
    "    on=['subject_id', 'ecg_time', 'study_id', 'hea_path', 'time_diff'],\n",
    "    how='outer',\n",
    "    suffixes=('_ca', '_k')\n",
    ")\n",
    "\n",
    "# Rename columns\n",
    "final_df.rename(columns={\n",
    "    'value_ca': 'calcium',\n",
    "    'value_k': 'potassium'\n",
    "}, inplace=True)\n",
    "\n",
    "# Save\n",
    "output_path = r'C:\\Users\\DELL\\Desktop\\DataECG\\matched_lab_ecg_unique_demo.csv'\n",
    "final_df.to_csv(output_path, index=False)\n",
    "\n",
    "both_df = final_df.dropna(subset=['calcium', 'potassium'])\n",
    "output_path_both = r'C:\\Users\\DELL\\Desktop\\DataECG\\matched_lab_ecg_both_demo.csv'\n",
    "both_df.to_csv(output_path_both, index=False)\n",
    "\n",
    "# Output\n",
    "print(f\"Matching completed, results have been saved to: {output_path, both_df}\")\n",
    "print(\"\\nFinal statistics:\")\n",
    "print(f\"- Unique ECG records: {len(final_df)}\")\n",
    "print(f\"- Records with calcium: {final_df['calcium'].notna().sum()}\")\n",
    "print(f\"- Records with potassium: {final_df['potassium'].notna().sum()}\")\n",
    "print(f\"- Records with both calcium and potassium: {final_df[['calcium', 'potassium']].notna().all(axis=1).sum()}\")\n"
   ]
  },
  {
   "cell_type": "code",
   "execution_count": 15,
   "id": "3777e979",
   "metadata": {},
   "outputs": [],
   "source": [
    "# Seperate Ca and K（Keep charttime）\n",
    "ca_df = merged[merged['itemid'] == 50893][['subject_id', 'charttime', 'ecg_time', 'value', 'time_diff', 'study_id', 'hea_path']].copy()\n",
    "k_df = merged[merged['itemid'] == 50971][['subject_id', 'charttime', 'ecg_time', 'value', 'time_diff', 'study_id', 'hea_path']].copy()\n",
    "\n",
    "# Sort by Time difference, duplicate\n",
    "ca_unique = ca_df.sort_values('time_diff').groupby(['subject_id', 'ecg_time']).head(1)\n",
    "k_unique = k_df.sort_values('time_diff').groupby(['subject_id', 'ecg_time']).head(1)\n",
    "\n",
    "final_df = pd.merge(\n",
    "    ca_unique.rename(columns={'charttime': 'charttime_ca', 'value': 'calcium'}),\n",
    "    k_unique.rename(columns={'charttime': 'charttime_k', 'value': 'potassium'}),\n",
    "    on=['subject_id', 'ecg_time', 'study_id', 'hea_path', 'time_diff'],\n",
    "    how='outer'\n",
    ")\n",
    "\n",
    "final_df['ecg_time'] = pd.to_datetime(final_df['ecg_time'])\n",
    "final_df['time_diff'] = final_df['time_diff'].astype('timedelta64[ns]')\n",
    "\n",
    "# Save\n",
    "output_path = r'C:\\Users\\DELL\\Desktop\\DataECG\\matched_lab_ecg_with_charttime_demo.csv'\n",
    "final_df.to_csv(output_path, index=False)\n",
    "\n"
   ]
  },
  {
   "cell_type": "code",
   "execution_count": 16,
   "id": "0b6647ef",
   "metadata": {},
   "outputs": [
    {
     "name": "stdout",
     "output_type": "stream",
     "text": [
      "\n",
      "Test statistics:\n",
      "- Number of records where Ca and K were tested at the same time: 1929\n",
      "- Maximum time difference between Ca and K tests: 0.00 hours\n"
     ]
    }
   ],
   "source": [
    "# Verify if Ca and K were tested at the same charttime\n",
    "# Add two columns：is_same_time 和 time_diff_between_ca_k\n",
    "final_df['is_same_time'] = (final_df['charttime_ca'] == final_df['charttime_k']).astype('boolean')\n",
    "final_df['time_diff_between_ca_k'] = (final_df['charttime_ca'] - final_df['charttime_k']).abs()\n",
    "\n",
    "# Turn into hours\n",
    "final_df['time_diff_between_ca_k'] = final_df['time_diff_between_ca_k'].dt.total_seconds() / 3600 \n",
    "\n",
    "print(\"\\nTest statistics:\")\n",
    "print(f\"- Number of records where Ca and K were tested at the same time: {final_df['is_same_time'].sum()}\")\n",
    "print(f\"- Maximum time difference between Ca and K tests: {final_df['time_diff_between_ca_k'].max():.2f} hours\")"
   ]
  }
 ],
 "metadata": {
  "kernelspec": {
   "display_name": "Python 3",
   "language": "python",
   "name": "python3"
  },
  "language_info": {
   "codemirror_mode": {
    "name": "ipython",
    "version": 3
   },
   "file_extension": ".py",
   "mimetype": "text/x-python",
   "name": "python",
   "nbconvert_exporter": "python",
   "pygments_lexer": "ipython3",
   "version": "3.9.0"
  }
 },
 "nbformat": 4,
 "nbformat_minor": 5
}
